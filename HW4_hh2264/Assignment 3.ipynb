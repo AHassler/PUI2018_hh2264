{
 "cells": [
  {
   "cell_type": "markdown",
   "metadata": {},
   "source": [
    "# Null hypothesis: \n",
    "# The implementation of an alternative bus route for bus line X8 increases or does not change the duration of bus trips.\n",
    "## _$H_0$_:  $t_{\\mathrm{1}}- t_{\\mathrm{0}} > = 0$ \n",
    "# Alternative hypothesis:\n",
    "# The implementation of an alternative bus route for bus line X8 decreases the duration of bus trips.\n",
    "## _$H_1$_:  $t_{\\mathrm{1}}- t_{\\mathrm{0}} < 0$ \n",
    "## significance level  $\\alpha=0.05$"
   ]
  },
  {
   "cell_type": "markdown",
   "metadata": {},
   "source": [
    "from https://github.com/fedhere/PUI2018_fb55/blob/master/Lab4_fb55/times.txt save and upload raw data times.txt to local directory."
   ]
  },
  {
   "cell_type": "code",
   "execution_count": 1,
   "metadata": {},
   "outputs": [],
   "source": [
    "import pandas as pd\n",
    "import numpy as np\n",
    "from math import sqrt"
   ]
  },
  {
   "cell_type": "code",
   "execution_count": 11,
   "metadata": {},
   "outputs": [
    {
     "data": {
      "text/html": [
       "<div>\n",
       "<table border=\"1\" class=\"dataframe\">\n",
       "  <thead>\n",
       "    <tr style=\"text-align: right;\">\n",
       "      <th></th>\n",
       "      <th>0</th>\n",
       "    </tr>\n",
       "  </thead>\n",
       "  <tbody>\n",
       "    <tr>\n",
       "      <th>0</th>\n",
       "      <td>31.622239</td>\n",
       "    </tr>\n",
       "    <tr>\n",
       "      <th>1</th>\n",
       "      <td>32.821376</td>\n",
       "    </tr>\n",
       "    <tr>\n",
       "      <th>2</th>\n",
       "      <td>30.229101</td>\n",
       "    </tr>\n",
       "    <tr>\n",
       "      <th>3</th>\n",
       "      <td>31.413766</td>\n",
       "    </tr>\n",
       "    <tr>\n",
       "      <th>4</th>\n",
       "      <td>39.010550</td>\n",
       "    </tr>\n",
       "  </tbody>\n",
       "</table>\n",
       "</div>"
      ],
      "text/plain": [
       "           0\n",
       "0  31.622239\n",
       "1  32.821376\n",
       "2  30.229101\n",
       "3  31.413766\n",
       "4  39.010550"
      ]
     },
     "execution_count": 11,
     "metadata": {},
     "output_type": "execute_result"
    }
   ],
   "source": [
    "times = pd.read_csv(\"times.txt\", header = None)\n",
    "times.head()"
   ]
  },
  {
   "cell_type": "markdown",
   "metadata": {},
   "source": [
    "Given 36 +- 6 minutes (mean and standard deviation parameters of the population), we get mu of population = 36, sigma of population = 6. \n",
    "\n",
    "We plug these values into the formula:"
   ]
  },
  {
   "cell_type": "code",
   "execution_count": 12,
   "metadata": {},
   "outputs": [
    {
     "name": "stdout",
     "output_type": "stream",
     "text": [
      "z score: 2.55639718617\n"
     ]
    }
   ],
   "source": [
    "z = (36 - times.mean())/(6/sqrt(len(times)))\n",
    "print(\"z score: {}\". format(z[0]))"
   ]
  },
  {
   "cell_type": "markdown",
   "metadata": {},
   "source": [
    "So the number of standard deviations away from the mean of my sample (times) is 2.56, meaning that we are farther than 2 sigmas away from the sample mean.\n",
    "\n",
    "Because we took a significance level of alpha = 0.05, which does not reject the null hypothesis if the sigma falls inside 2 standard deviations (95%) of our sample, we reject the null hypothesis that the implementation of an alternative bus route for bus line X8 increases or does not change the duration of bus trips.\n",
    "\n",
    "This means that our conclusion is that the implementation of an alternative bus route for bus line X8 decreases the duration of bus trips (alternative hypothesis)."
   ]
  },
  {
   "cell_type": "code",
   "execution_count": null,
   "metadata": {},
   "outputs": [],
   "source": []
  }
 ],
 "metadata": {
  "kernelspec": {
   "display_name": "PUI2016_Python2",
   "language": "python",
   "name": "pui2016_python2"
  },
  "language_info": {
   "codemirror_mode": {
    "name": "ipython",
    "version": 2
   },
   "file_extension": ".py",
   "mimetype": "text/x-python",
   "name": "python",
   "nbconvert_exporter": "python",
   "pygments_lexer": "ipython2",
   "version": "2.7.12"
  }
 },
 "nbformat": 4,
 "nbformat_minor": 2
}
