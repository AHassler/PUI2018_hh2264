{
 "cells": [
  {
   "cell_type": "code",
   "execution_count": 81,
   "metadata": {},
   "outputs": [
    {
     "name": "stdout",
     "output_type": "stream",
     "text": [
      "Populating the interactive namespace from numpy and matplotlib\n"
     ]
    }
   ],
   "source": [
    "from __future__  import print_function, division\n",
    "import pylab as pl\n",
    "import pandas as pd\n",
    "import numpy as np\n",
    "import os\n",
    "\n",
    "%pylab inline\n",
    "\n",
    "if os.getenv ('PUI2016') is None:\n",
    "    print (\"Must set env variable PUI2016\")\n",
    "if os.getenv ('PUIDATA') is None:\n",
    "    print (\"Must set env variable PUI2016\")\n",
    "\n",
    "import os\n",
    "import json"
   ]
  },
  {
   "cell_type": "code",
   "execution_count": 82,
   "metadata": {},
   "outputs": [],
   "source": [
    "def getCitiBikeCSV(datestring):\n",
    "    print (\"Downloading\", datestring)\n",
    "    ### First I will heck that it is not already there\n",
    "    if not os.path.isfile(os.getenv(\"PUIDATA\") + \"/\" + datestring + \"-citibike-tripdata.csv\"):\n",
    "        if os.path.isfile(datestring + \"-citibike-tripdata.csv\"):\n",
    "            # if in the current dir just move it\n",
    "            if os.system(\"mv \" + datestring + \"-citibike-tripdata.csv \" + os.getenv(\"PUIDATA\")):\n",
    "                print (\"Error moving file!, Please check!\")\n",
    "        #otherwise start looking for the zip file\n",
    "        else:\n",
    "            if not os.path.isfile(os.getenv(\"PUIDATA\") + \"/\" + datestring + \"-citibike-tripdata.zip\"):\n",
    "                if not os.path.isfile(datestring + \"-citibike-tripdata.zip\"):\n",
    "                    os.system(\"curl -O https://s3.amazonaws.com/tripdata/\" + datestring + \"-citibike-tripdata.zip\")\n",
    "                ###  To move it I use the os.system() functions to run bash commands with arguments\n",
    "                os.system(\"mv \" + datestring + \"-citibike-tripdata.zip \" + os.getenv(\"PUIDATA\"))\n",
    "            ### unzip the csv \n",
    "            os.system(\"unzip \" + os.getenv(\"PUIDATA\") + \"/\" + datestring + \"-citibike-tripdata.zip\")\n",
    "            ## NOTE: old csv citibike data had a different name structure. \n",
    "            if '2014' in datestring:\n",
    "                os.system(\"mv \" + datestring[:4] + '-' +  datestring[4:] + \n",
    "                          \"\\ -\\ Citi\\ Bike\\ trip\\ data.csv \" + datestring + \"-citibike-tripdata.csv\")\n",
    "            os.system(\"mv \" + datestring + \"-citibike-tripdata.csv \" + os.getenv(\"PUIDATA\"))\n",
    "    ### One final check:\n",
    "    if not os.path.isfile(os.getenv(\"PUIDATA\") + \"/\" + datestring + \"-citibike-tripdata.csv\"):\n",
    "        print (\"WARNING!!! something is wrong: the file is not there!\")\n",
    "\n",
    "    else:\n",
    "        print (\"file in place, you can continue\")"
   ]
  },
  {
   "cell_type": "code",
   "execution_count": 83,
   "metadata": {
    "scrolled": true
   },
   "outputs": [
    {
     "name": "stdout",
     "output_type": "stream",
     "text": [
      "Downloading 201703\n",
      "file in place, you can continue\n"
     ]
    }
   ],
   "source": [
    "datestring = '201703'\n",
    "getCitiBikeCSV(datestring)"
   ]
  },
  {
   "cell_type": "markdown",
   "metadata": {},
   "source": [
    "# IDEA: Women spend less time biking per trip than men do."
   ]
  },
  {
   "cell_type": "markdown",
   "metadata": {},
   "source": [
    "## Null Hypothesis: \n",
    "## The trip duration of women bikers is longer than or equal to that of men bikers during March 2017.\n",
    "## Alternative Hypothesis:\n",
    "## The trip duration of women bikers is shorter than that of men bikers during March 2017.\n",
    "### _$H_0$_:  $W_{\\mathrm{t}}>= M_{\\mathrm{t}}$\n",
    "### _$H_1$_ : $W_{\\mathrm{t}}< M_{\\mathrm{t}}$\n",
    "### significance level  $\\alpha=0.05$"
   ]
  },
  {
   "cell_type": "code",
   "execution_count": 93,
   "metadata": {},
   "outputs": [
    {
     "data": {
      "text/html": [
       "<div>\n",
       "<table border=\"1\" class=\"dataframe\">\n",
       "  <thead>\n",
       "    <tr style=\"text-align: right;\">\n",
       "      <th></th>\n",
       "      <th>Trip Duration</th>\n",
       "      <th>Start Time</th>\n",
       "      <th>Stop Time</th>\n",
       "      <th>Start Station ID</th>\n",
       "      <th>Start Station Name</th>\n",
       "      <th>Start Station Latitude</th>\n",
       "      <th>Start Station Longitude</th>\n",
       "      <th>End Station ID</th>\n",
       "      <th>End Station Name</th>\n",
       "      <th>End Station Latitude</th>\n",
       "      <th>End Station Longitude</th>\n",
       "      <th>Bike ID</th>\n",
       "      <th>User Type</th>\n",
       "      <th>Birth Year</th>\n",
       "      <th>Gender</th>\n",
       "    </tr>\n",
       "  </thead>\n",
       "  <tbody>\n",
       "    <tr>\n",
       "      <th>0</th>\n",
       "      <td>1076</td>\n",
       "      <td>2017-03-01 00:03:02</td>\n",
       "      <td>2017-03-01 00:20:58</td>\n",
       "      <td>3275</td>\n",
       "      <td>Columbus Drive</td>\n",
       "      <td>40.718355</td>\n",
       "      <td>-74.038914</td>\n",
       "      <td>3207</td>\n",
       "      <td>Oakland Ave</td>\n",
       "      <td>40.737604</td>\n",
       "      <td>-74.052478</td>\n",
       "      <td>26283</td>\n",
       "      <td>Subscriber</td>\n",
       "      <td>1991.0</td>\n",
       "      <td>1</td>\n",
       "    </tr>\n",
       "    <tr>\n",
       "      <th>1</th>\n",
       "      <td>978</td>\n",
       "      <td>2017-03-01 00:09:02</td>\n",
       "      <td>2017-03-01 00:25:20</td>\n",
       "      <td>3220</td>\n",
       "      <td>5 Corners Library</td>\n",
       "      <td>40.734961</td>\n",
       "      <td>-74.059503</td>\n",
       "      <td>3195</td>\n",
       "      <td>Sip Ave</td>\n",
       "      <td>40.730743</td>\n",
       "      <td>-74.063784</td>\n",
       "      <td>24559</td>\n",
       "      <td>Subscriber</td>\n",
       "      <td>1987.0</td>\n",
       "      <td>1</td>\n",
       "    </tr>\n",
       "    <tr>\n",
       "      <th>2</th>\n",
       "      <td>1789</td>\n",
       "      <td>2017-03-01 00:28:11</td>\n",
       "      <td>2017-03-01 00:58:00</td>\n",
       "      <td>3195</td>\n",
       "      <td>Sip Ave</td>\n",
       "      <td>40.730743</td>\n",
       "      <td>-74.063784</td>\n",
       "      <td>3186</td>\n",
       "      <td>Grove St PATH</td>\n",
       "      <td>40.719586</td>\n",
       "      <td>-74.043117</td>\n",
       "      <td>24559</td>\n",
       "      <td>Subscriber</td>\n",
       "      <td>1987.0</td>\n",
       "      <td>1</td>\n",
       "    </tr>\n",
       "    <tr>\n",
       "      <th>3</th>\n",
       "      <td>613</td>\n",
       "      <td>2017-03-01 00:52:30</td>\n",
       "      <td>2017-03-01 01:02:44</td>\n",
       "      <td>3194</td>\n",
       "      <td>McGinley Square</td>\n",
       "      <td>40.725340</td>\n",
       "      <td>-74.067622</td>\n",
       "      <td>3189</td>\n",
       "      <td>West Side Light Rail</td>\n",
       "      <td>40.714402</td>\n",
       "      <td>-74.088772</td>\n",
       "      <td>26261</td>\n",
       "      <td>Subscriber</td>\n",
       "      <td>1962.0</td>\n",
       "      <td>1</td>\n",
       "    </tr>\n",
       "    <tr>\n",
       "      <th>4</th>\n",
       "      <td>2418</td>\n",
       "      <td>2017-03-01 00:54:40</td>\n",
       "      <td>2017-03-01 01:34:59</td>\n",
       "      <td>3199</td>\n",
       "      <td>Newport Pkwy</td>\n",
       "      <td>40.728745</td>\n",
       "      <td>-74.032108</td>\n",
       "      <td>3199</td>\n",
       "      <td>Newport Pkwy</td>\n",
       "      <td>40.728745</td>\n",
       "      <td>-74.032108</td>\n",
       "      <td>26277</td>\n",
       "      <td>Subscriber</td>\n",
       "      <td>1975.0</td>\n",
       "      <td>1</td>\n",
       "    </tr>\n",
       "  </tbody>\n",
       "</table>\n",
       "</div>"
      ],
      "text/plain": [
       "   Trip Duration           Start Time            Stop Time  Start Station ID  \\\n",
       "0           1076  2017-03-01 00:03:02  2017-03-01 00:20:58              3275   \n",
       "1            978  2017-03-01 00:09:02  2017-03-01 00:25:20              3220   \n",
       "2           1789  2017-03-01 00:28:11  2017-03-01 00:58:00              3195   \n",
       "3            613  2017-03-01 00:52:30  2017-03-01 01:02:44              3194   \n",
       "4           2418  2017-03-01 00:54:40  2017-03-01 01:34:59              3199   \n",
       "\n",
       "  Start Station Name  Start Station Latitude  Start Station Longitude  \\\n",
       "0     Columbus Drive               40.718355               -74.038914   \n",
       "1  5 Corners Library               40.734961               -74.059503   \n",
       "2            Sip Ave               40.730743               -74.063784   \n",
       "3    McGinley Square               40.725340               -74.067622   \n",
       "4       Newport Pkwy               40.728745               -74.032108   \n",
       "\n",
       "   End Station ID      End Station Name  End Station Latitude  \\\n",
       "0            3207           Oakland Ave             40.737604   \n",
       "1            3195               Sip Ave             40.730743   \n",
       "2            3186         Grove St PATH             40.719586   \n",
       "3            3189  West Side Light Rail             40.714402   \n",
       "4            3199          Newport Pkwy             40.728745   \n",
       "\n",
       "   End Station Longitude  Bike ID   User Type  Birth Year  Gender  \n",
       "0             -74.052478    26283  Subscriber      1991.0       1  \n",
       "1             -74.063784    24559  Subscriber      1987.0       1  \n",
       "2             -74.043117    24559  Subscriber      1987.0       1  \n",
       "3             -74.088772    26261  Subscriber      1962.0       1  \n",
       "4             -74.032108    26277  Subscriber      1975.0       1  "
      ]
     },
     "execution_count": 93,
     "metadata": {},
     "output_type": "execute_result"
    }
   ],
   "source": [
    "df = pd.read_csv(os.getenv(\"PUIDATA\") + \"/\" + datestring + '-citibike-tripdata.csv')\n",
    "# df is the dataframe where the content of the csv file is stored\n",
    "# note that with dataframes I can refer to variables as dictionary keys, \n",
    "# i.e. df['Trip Duration'] or as attributes: df.Trip Duration. \n",
    "df.head()"
   ]
  },
  {
   "cell_type": "code",
   "execution_count": 94,
   "metadata": {},
   "outputs": [
    {
     "data": {
      "text/plain": [
       "Index([u'Trip Duration', u'Start Time', u'Stop Time', u'Start Station ID',\n",
       "       u'Start Station Name', u'Start Station Latitude',\n",
       "       u'Start Station Longitude', u'End Station ID', u'End Station Name',\n",
       "       u'End Station Latitude', u'End Station Longitude', u'Bike ID',\n",
       "       u'User Type', u'Birth Year', u'Gender'],\n",
       "      dtype='object')"
      ]
     },
     "execution_count": 94,
     "metadata": {},
     "output_type": "execute_result"
    }
   ],
   "source": [
    "df.columns"
   ]
  },
  {
   "cell_type": "code",
   "execution_count": 95,
   "metadata": {},
   "outputs": [],
   "source": [
    "df.drop([u'Start Time', u'Stop Time', u'Start Station ID',\n",
    "       u'Start Station Name', u'Start Station Latitude',\n",
    "       u'Start Station Longitude', u'End Station ID', u'End Station Name',\n",
    "       u'End Station Latitude', u'End Station Longitude', u'Bike ID',\n",
    "       u'User Type', u'Birth Year'], axis=1, inplace=True)"
   ]
  },
  {
   "cell_type": "code",
   "execution_count": 96,
   "metadata": {},
   "outputs": [
    {
     "data": {
      "text/html": [
       "<div>\n",
       "<table border=\"1\" class=\"dataframe\">\n",
       "  <thead>\n",
       "    <tr style=\"text-align: right;\">\n",
       "      <th></th>\n",
       "      <th>Trip Duration</th>\n",
       "      <th>Gender</th>\n",
       "    </tr>\n",
       "  </thead>\n",
       "  <tbody>\n",
       "    <tr>\n",
       "      <th>0</th>\n",
       "      <td>1076</td>\n",
       "      <td>1</td>\n",
       "    </tr>\n",
       "    <tr>\n",
       "      <th>1</th>\n",
       "      <td>978</td>\n",
       "      <td>1</td>\n",
       "    </tr>\n",
       "    <tr>\n",
       "      <th>2</th>\n",
       "      <td>1789</td>\n",
       "      <td>1</td>\n",
       "    </tr>\n",
       "    <tr>\n",
       "      <th>3</th>\n",
       "      <td>613</td>\n",
       "      <td>1</td>\n",
       "    </tr>\n",
       "    <tr>\n",
       "      <th>4</th>\n",
       "      <td>2418</td>\n",
       "      <td>1</td>\n",
       "    </tr>\n",
       "  </tbody>\n",
       "</table>\n",
       "</div>"
      ],
      "text/plain": [
       "   Trip Duration  Gender\n",
       "0           1076       1\n",
       "1            978       1\n",
       "2           1789       1\n",
       "3            613       1\n",
       "4           2418       1"
      ]
     },
     "execution_count": 96,
     "metadata": {},
     "output_type": "execute_result"
    }
   ],
   "source": [
    "df.head()"
   ]
  },
  {
   "cell_type": "markdown",
   "metadata": {},
   "source": [
    "### Lets separate males (_m) from females (_w) to test the hypotheses.\n",
    "### In this csv file gender == 1 is male, gender == 2 is female\n",
    "### Lets plot the sum of trip duration time for each gender type"
   ]
  },
  {
   "cell_type": "code",
   "execution_count": 102,
   "metadata": {},
   "outputs": [
    {
     "data": {
      "text/plain": [
       "<matplotlib.legend.Legend at 0x7f91348a82d0>"
      ]
     },
     "execution_count": 102,
     "metadata": {},
     "output_type": "execute_result"
    },
    {
     "data": {
      "image/png": "[encoded data removed]",
      "text/plain": [
       "<matplotlib.figure.Figure at 0x7f91326ec2d0>"
      ]
     },
     "metadata": {},
     "output_type": "display_data"
    }
   ],
   "source": [
    "fig = pl.figure(figsize(15,15))\n",
    "\n",
    "#instad of plotting with matplotlib i.e. plot() i use the plot method in pandas\n",
    "norm_w = 1\n",
    "((df['Trip Duration'][df['Gender'] == 2].groupby([df['Gender'] == 2]).sum()) / norm_w).plot(kind=\"bar\", \n",
    "                                                                                         color='IndianRed', \n",
    "                                                                                         label='female')\n",
    "\n",
    "norm_m = 1\n",
    "ax = ((df['Trip Duration'][df['Gender'] == 1].groupby([df['Gender'] == 1]).sum()) / norm_m).plot(kind=\"bar\", \n",
    "                                                                                              color='SteelBlue', \n",
    "                                                                                              alpha=0.5,\n",
    "                                                                                              label='male')\n",
    "tmp = ax.xaxis.set_ticklabels(['Female', 'Male'], fontsize=20)\n",
    "pl.legend()"
   ]
  },
  {
   "cell_type": "markdown",
   "metadata": {},
   "source": [
    "Figure 1a: Duration of Trips of Citibike bikers by gender in March 2017, absolute sums"
   ]
  },
  {
   "cell_type": "code",
   "execution_count": 125,
   "metadata": {},
   "outputs": [],
   "source": [
    "#Count the number of rides for each gender that either exceed the trip duration mean time or not. \n",
    "#Because I can't plot error bars using the sum method above...\n",
    "duration_mean = df['Trip Duration'].mean()"
   ]
  },
  {
   "cell_type": "code",
   "execution_count": 132,
   "metadata": {},
   "outputs": [
    {
     "data": {
      "text/plain": [
       "<matplotlib.legend.Legend at 0x7f9131d142d0>"
      ]
     },
     "execution_count": 132,
     "metadata": {},
     "output_type": "execute_result"
    },
    {
     "data": {
      "image/png": "[encoded data removed]",
      "text/plain": [
       "<matplotlib.figure.Figure at 0x7f9131d00cd0>"
      ]
     },
     "metadata": {},
     "output_type": "display_data"
    }
   ],
   "source": [
    "fig=pl.figure(figsize(15,10))\n",
    "\n",
    "count_w = df['Trip Duration'][df['Gender'] == 2].groupby([df['Trip Duration'] > duration_mean]).count()\n",
    "norm_w = 1\n",
    "error_w = np.sqrt(count_w)\n",
    "ax=((count_w) / norm_w).plot(kind=\"bar\",color='IndianRed',  yerr=[((error_w) / norm_w, (error_w) / norm_w)], label='women bikers')\n",
    "\n",
    "\n",
    "count_m = df['Trip Duration'][df['Gender'] == 1].groupby([df['Trip Duration'] > duration_mean]).count()\n",
    "norm_m = 1\n",
    "error_m = np.sqrt(count_m)\n",
    "((count_m) / norm_m).plot(kind=\"bar\", alpha=0.5, yerr=[((error_m) / norm_m, (error_m) / norm_m)], color='SteelBlue', label='men bikers')\n",
    "ax.xaxis.set_ticklabels(['< duration mean time','> duration mean time'], fontsize=20)\n",
    "ax.set_ylabel (\"Number of rides\")\n",
    "ax.set_xlabel (\"Trip duration\")\n",
    "pl.legend(['women bikers','men bikers'],fontsize=20)"
   ]
  },
  {
   "cell_type": "markdown",
   "metadata": {},
   "source": [
    "Figure 1b: Distributions of Trip Durations of Citibike bikers by gender in March 2017, absolute counts, with statistical errors"
   ]
  },
  {
   "cell_type": "code",
   "execution_count": 135,
   "metadata": {},
   "outputs": [
    {
     "data": {
      "text/plain": [
       "<matplotlib.legend.Legend at 0x7f9131d0d550>"
      ]
     },
     "execution_count": 135,
     "metadata": {},
     "output_type": "execute_result"
    },
    {
     "data": {
      "image/png": "[encoded data removed]",
      "text/plain": [
       "<matplotlib.figure.Figure at 0x7f913198a290>"
      ]
     },
     "metadata": {},
     "output_type": "display_data"
    }
   ],
   "source": [
    "fig = pl.figure(figsize(15,10))\n",
    "\n",
    "norm_w = count_w.sum()\n",
    "error_w = np.sqrt(count_w)\n",
    "((count_w) / norm_w).plot(kind=\"bar\", color='IndianRed',  \n",
    "                           yerr=[((error_w) / norm_w, (error_w) / norm_w)], \n",
    "                           label='women bikers')\n",
    "\n",
    "norm_m = count_m.sum()\n",
    "error_m = np.sqrt(count_m)\n",
    "ax = ((count_m) / norm_m).plot(kind=\"bar\", alpha=0.5, \n",
    "                                yerr=[((error_m) / norm_m, (error_m) / norm_m)], \n",
    "                                color='SteelBlue', label='men bikers')\n",
    "\n",
    "ax.xaxis.set_ticklabels(['< duration mean time','> duration mean time'], fontsize=20)\n",
    "ax.set_ylabel (\"Fraction of rides\")\n",
    "ax.set_xlabel (\"Trip duration\")\n",
    "\n",
    "pl.legend(['women bikers','men bikers'],fontsize=20)"
   ]
  },
  {
   "cell_type": "markdown",
   "metadata": {},
   "source": [
    "Figure 2:  Distributions of Trip Durations of Citibike bikers by gender in March 2017, normalized"
   ]
  }
 ],
 "metadata": {
  "kernelspec": {
   "display_name": "PUI2016_Python2",
   "language": "python",
   "name": "pui2016_python2"
  },
  "language_info": {
   "codemirror_mode": {
    "name": "ipython",
    "version": 2
   },
   "file_extension": ".py",
   "mimetype": "text/x-python",
   "name": "python",
   "nbconvert_exporter": "python",
   "pygments_lexer": "ipython2",
   "version": "2.7.12"
  }
 },
 "nbformat": 4,
 "nbformat_minor": 2
}
