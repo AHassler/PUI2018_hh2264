{
 "cells": [
  {
   "cell_type": "markdown",
   "metadata": {
    "collapsed": true,
    "run_control": {
     "frozen": false,
     "read_only": false
    }
   },
   "source": [
    "** Skeleton of Assignment 4:**\n",
    "    test if the distribution of \n",
    "    \n",
    "    1) trip duration of bikers that ride during the day vs night\n",
    "    \n",
    "    2) age of bikers for trips originating in Manhattan and in Brooklyn\n",
    "    \n",
    "    are different. Use 3 tests: KS, Pearson's, Spearman's. \n",
    "    \n",
    "    Use the scipy.stats functions scipy.stats.ks_2samp, scipy.stats.pearsonr, scipy.stats.spearmanr. \n",
    "    \n",
    "    For the KS do the test with the entire dataset and with a subset 200 times smaller\n",
    "    \n",
    "    Choose a single significant threshold for the whole exercise. \n",
    "    \n",
    "    For each test phrase the Null Hypothesis in words.\n",
    "    \n",
    "    Describe the return of the scipy function you use in each case.\n",
    "    \n",
    "    State the result in terms of rejection of the Null."
   ]
  },
  {
   "cell_type": "code",
   "execution_count": 7,
   "metadata": {
    "ExecuteTime": {
     "end_time": "2017-10-16T20:30:35.071867",
     "start_time": "2017-10-16T20:30:35.049930"
    },
    "run_control": {
     "frozen": false,
     "read_only": false
    },
    "scrolled": false
   },
   "outputs": [],
   "source": [
    "# my usual imports and setups\n",
    "from __future__ import print_function, division\n",
    "import pylab as pl\n",
    "import pandas as pd\n",
    "import numpy as np\n",
    "\n",
    "import scipy.stats\n",
    "import os\n",
    "#this makes my plots pretty! but it is totally not mandatory to do it\n",
    "import json\n",
    "\n",
    "if os.getenv ('PUI2016') is None:\n",
    "    print (\"Must set env variable PUI2016\")\n",
    "if os.getenv ('PUIDATA') is None:\n",
    "    print (\"Must set env variable PUI2018\")\n",
    "    \n",
    "import os\n",
    "import json\n",
    "\n",
    "#set this to true while developing to subsample data\n",
    "DEVELOPING = False\n",
    "\n",
    "#chose day hours vs night hours:\n",
    "DAYTIME = (6, 18)"
   ]
  },
  {
   "cell_type": "code",
   "execution_count": 8,
   "metadata": {},
   "outputs": [
    {
     "data": {
      "text/plain": [
       "'/nfshome/hh2264/PUIdata'"
      ]
     },
     "execution_count": 8,
     "metadata": {},
     "output_type": "execute_result"
    }
   ],
   "source": [
    "os.getenv('PUIDATA')"
   ]
  },
  {
   "cell_type": "markdown",
   "metadata": {},
   "source": [
    "** Statistical significance threshold throughout: $\\alpha = 0.05$ **"
   ]
  },
  {
   "cell_type": "code",
   "execution_count": 2,
   "metadata": {
    "ExecuteTime": {
     "end_time": "2017-10-16T20:10:54.437040",
     "start_time": "2017-10-16T20:10:54.433651"
    },
    "collapsed": true
   },
   "outputs": [],
   "source": [
    "alpha = 0.05"
   ]
  },
  {
   "cell_type": "markdown",
   "metadata": {
    "run_control": {
     "frozen": false,
     "read_only": false
    }
   },
   "source": [
    "# Read in data\n",
    "I am reading in data from August 2014 and Feburary 2015 with the function that I created getCitiBikeCSV. You are requested to use 2 months at least. It would be a good idea to use data from a colder and a warmer months, since there are more riders in the warm weather and ridership patterns may change with weather, temperature, etc. You should use data from multiple months, joining multiple datasets (thus addressing some systematic errors as well)"
   ]
  },
  {
   "cell_type": "code",
   "execution_count": 19,
   "metadata": {},
   "outputs": [],
   "source": [
    "datestring08 = '201408'\n",
    "datestring02 = '201502'"
   ]
  },
  {
   "cell_type": "code",
   "execution_count": 20,
   "metadata": {
    "ExecuteTime": {
     "end_time": "2017-10-16T20:11:10.393717",
     "start_time": "2017-10-16T20:11:09.422911"
    },
    "run_control": {
     "frozen": false,
     "read_only": false
    }
   },
   "outputs": [
    {
     "data": {
      "text/html": [
       "<div>\n",
       "<table border=\"1\" class=\"dataframe\">\n",
       "  <thead>\n",
       "    <tr style=\"text-align: right;\">\n",
       "      <th></th>\n",
       "      <th>tripduration</th>\n",
       "      <th>starttime</th>\n",
       "      <th>stoptime</th>\n",
       "      <th>start station id</th>\n",
       "      <th>start station name</th>\n",
       "      <th>start station latitude</th>\n",
       "      <th>start station longitude</th>\n",
       "      <th>end station id</th>\n",
       "      <th>end station name</th>\n",
       "      <th>end station latitude</th>\n",
       "      <th>end station longitude</th>\n",
       "      <th>bikeid</th>\n",
       "      <th>usertype</th>\n",
       "      <th>birth year</th>\n",
       "      <th>gender</th>\n",
       "    </tr>\n",
       "  </thead>\n",
       "  <tbody>\n",
       "    <tr>\n",
       "      <th>0</th>\n",
       "      <td>1142</td>\n",
       "      <td>2014-08-01 00:00:04</td>\n",
       "      <td>2014-08-01 00:19:06</td>\n",
       "      <td>470</td>\n",
       "      <td>W 20 St &amp; 8 Ave</td>\n",
       "      <td>40.743453</td>\n",
       "      <td>-74.000040</td>\n",
       "      <td>312</td>\n",
       "      <td>Allen St &amp; E Houston St</td>\n",
       "      <td>40.722055</td>\n",
       "      <td>-73.989111</td>\n",
       "      <td>19117</td>\n",
       "      <td>Subscriber</td>\n",
       "      <td>1969</td>\n",
       "      <td>1</td>\n",
       "    </tr>\n",
       "    <tr>\n",
       "      <th>1</th>\n",
       "      <td>117</td>\n",
       "      <td>2014-08-01 00:00:05</td>\n",
       "      <td>2014-08-01 00:02:02</td>\n",
       "      <td>236</td>\n",
       "      <td>St Marks Pl &amp; 2 Ave</td>\n",
       "      <td>40.728419</td>\n",
       "      <td>-73.987140</td>\n",
       "      <td>432</td>\n",
       "      <td>E 7 St &amp; Avenue A</td>\n",
       "      <td>40.726218</td>\n",
       "      <td>-73.983799</td>\n",
       "      <td>20549</td>\n",
       "      <td>Subscriber</td>\n",
       "      <td>1991</td>\n",
       "      <td>1</td>\n",
       "    </tr>\n",
       "    <tr>\n",
       "      <th>2</th>\n",
       "      <td>546</td>\n",
       "      <td>2014-08-01 00:00:07</td>\n",
       "      <td>2014-08-01 00:09:13</td>\n",
       "      <td>224</td>\n",
       "      <td>Spruce St &amp; Nassau St</td>\n",
       "      <td>40.711464</td>\n",
       "      <td>-74.005524</td>\n",
       "      <td>340</td>\n",
       "      <td>Madison St &amp; Clinton St</td>\n",
       "      <td>40.712690</td>\n",
       "      <td>-73.987763</td>\n",
       "      <td>15997</td>\n",
       "      <td>Subscriber</td>\n",
       "      <td>1984</td>\n",
       "      <td>1</td>\n",
       "    </tr>\n",
       "    <tr>\n",
       "      <th>3</th>\n",
       "      <td>2126</td>\n",
       "      <td>2014-08-01 00:00:11</td>\n",
       "      <td>2014-08-01 00:35:37</td>\n",
       "      <td>150</td>\n",
       "      <td>E 2 St &amp; Avenue C</td>\n",
       "      <td>40.720874</td>\n",
       "      <td>-73.980858</td>\n",
       "      <td>522</td>\n",
       "      <td>E 51 St &amp; Lexington Ave</td>\n",
       "      <td>40.757148</td>\n",
       "      <td>-73.972078</td>\n",
       "      <td>21437</td>\n",
       "      <td>Subscriber</td>\n",
       "      <td>1988</td>\n",
       "      <td>1</td>\n",
       "    </tr>\n",
       "    <tr>\n",
       "      <th>4</th>\n",
       "      <td>329</td>\n",
       "      <td>2014-08-01 00:00:15</td>\n",
       "      <td>2014-08-01 00:05:44</td>\n",
       "      <td>519</td>\n",
       "      <td>E 42 St &amp; Vanderbilt Ave</td>\n",
       "      <td>40.752416</td>\n",
       "      <td>-73.978370</td>\n",
       "      <td>477</td>\n",
       "      <td>W 41 St &amp; 8 Ave</td>\n",
       "      <td>40.756405</td>\n",
       "      <td>-73.990026</td>\n",
       "      <td>16693</td>\n",
       "      <td>Subscriber</td>\n",
       "      <td>1981</td>\n",
       "      <td>1</td>\n",
       "    </tr>\n",
       "  </tbody>\n",
       "</table>\n",
       "</div>"
      ],
      "text/plain": [
       "   tripduration            starttime             stoptime  start station id  \\\n",
       "0          1142  2014-08-01 00:00:04  2014-08-01 00:19:06               470   \n",
       "1           117  2014-08-01 00:00:05  2014-08-01 00:02:02               236   \n",
       "2           546  2014-08-01 00:00:07  2014-08-01 00:09:13               224   \n",
       "3          2126  2014-08-01 00:00:11  2014-08-01 00:35:37               150   \n",
       "4           329  2014-08-01 00:00:15  2014-08-01 00:05:44               519   \n",
       "\n",
       "         start station name  start station latitude  start station longitude  \\\n",
       "0           W 20 St & 8 Ave               40.743453               -74.000040   \n",
       "1       St Marks Pl & 2 Ave               40.728419               -73.987140   \n",
       "2     Spruce St & Nassau St               40.711464               -74.005524   \n",
       "3         E 2 St & Avenue C               40.720874               -73.980858   \n",
       "4  E 42 St & Vanderbilt Ave               40.752416               -73.978370   \n",
       "\n",
       "   end station id         end station name  end station latitude  \\\n",
       "0             312  Allen St & E Houston St             40.722055   \n",
       "1             432        E 7 St & Avenue A             40.726218   \n",
       "2             340  Madison St & Clinton St             40.712690   \n",
       "3             522  E 51 St & Lexington Ave             40.757148   \n",
       "4             477          W 41 St & 8 Ave             40.756405   \n",
       "\n",
       "   end station longitude  bikeid    usertype birth year  gender  \n",
       "0             -73.989111   19117  Subscriber       1969       1  \n",
       "1             -73.983799   20549  Subscriber       1991       1  \n",
       "2             -73.987763   15997  Subscriber       1984       1  \n",
       "3             -73.972078   21437  Subscriber       1988       1  \n",
       "4             -73.990026   16693  Subscriber       1981       1  "
      ]
     },
     "execution_count": 20,
     "metadata": {},
     "output_type": "execute_result"
    }
   ],
   "source": [
    "# read in data August\n",
    "cb201408 = pd.read_csv(os.getenv(\"PUIDATA\") + \"/\" + datestring08 + '-citibike-tripdata.csv')\n",
    "cb201408.head()"
   ]
  },
  {
   "cell_type": "code",
   "execution_count": 21,
   "metadata": {
    "ExecuteTime": {
     "end_time": "2017-10-16T20:11:13.893956",
     "start_time": "2017-10-16T20:11:10.396668"
    }
   },
   "outputs": [
    {
     "data": {
      "text/html": [
       "<div>\n",
       "<table border=\"1\" class=\"dataframe\">\n",
       "  <thead>\n",
       "    <tr style=\"text-align: right;\">\n",
       "      <th></th>\n",
       "      <th>tripduration</th>\n",
       "      <th>starttime</th>\n",
       "      <th>stoptime</th>\n",
       "      <th>start station id</th>\n",
       "      <th>start station name</th>\n",
       "      <th>start station latitude</th>\n",
       "      <th>start station longitude</th>\n",
       "      <th>end station id</th>\n",
       "      <th>end station name</th>\n",
       "      <th>end station latitude</th>\n",
       "      <th>end station longitude</th>\n",
       "      <th>bikeid</th>\n",
       "      <th>usertype</th>\n",
       "      <th>birth year</th>\n",
       "      <th>gender</th>\n",
       "    </tr>\n",
       "  </thead>\n",
       "  <tbody>\n",
       "    <tr>\n",
       "      <th>0</th>\n",
       "      <td>801</td>\n",
       "      <td>2/1/2015 0:00</td>\n",
       "      <td>2/1/2015 0:14</td>\n",
       "      <td>521</td>\n",
       "      <td>8 Ave &amp; W 31 St</td>\n",
       "      <td>40.750450</td>\n",
       "      <td>-73.994811</td>\n",
       "      <td>423</td>\n",
       "      <td>W 54 St &amp; 9 Ave</td>\n",
       "      <td>40.765849</td>\n",
       "      <td>-73.986905</td>\n",
       "      <td>17131</td>\n",
       "      <td>Subscriber</td>\n",
       "      <td>1978.0</td>\n",
       "      <td>2</td>\n",
       "    </tr>\n",
       "    <tr>\n",
       "      <th>1</th>\n",
       "      <td>379</td>\n",
       "      <td>2/1/2015 0:00</td>\n",
       "      <td>2/1/2015 0:07</td>\n",
       "      <td>497</td>\n",
       "      <td>E 17 St &amp; Broadway</td>\n",
       "      <td>40.737050</td>\n",
       "      <td>-73.990093</td>\n",
       "      <td>504</td>\n",
       "      <td>1 Ave &amp; E 15 St</td>\n",
       "      <td>40.732219</td>\n",
       "      <td>-73.981656</td>\n",
       "      <td>21289</td>\n",
       "      <td>Subscriber</td>\n",
       "      <td>1993.0</td>\n",
       "      <td>1</td>\n",
       "    </tr>\n",
       "    <tr>\n",
       "      <th>2</th>\n",
       "      <td>2474</td>\n",
       "      <td>2/1/2015 0:01</td>\n",
       "      <td>2/1/2015 0:42</td>\n",
       "      <td>281</td>\n",
       "      <td>Grand Army Plaza &amp; Central Park S</td>\n",
       "      <td>40.764397</td>\n",
       "      <td>-73.973715</td>\n",
       "      <td>127</td>\n",
       "      <td>Barrow St &amp; Hudson St</td>\n",
       "      <td>40.731724</td>\n",
       "      <td>-74.006744</td>\n",
       "      <td>18903</td>\n",
       "      <td>Subscriber</td>\n",
       "      <td>1969.0</td>\n",
       "      <td>2</td>\n",
       "    </tr>\n",
       "    <tr>\n",
       "      <th>3</th>\n",
       "      <td>818</td>\n",
       "      <td>2/1/2015 0:01</td>\n",
       "      <td>2/1/2015 0:15</td>\n",
       "      <td>2004</td>\n",
       "      <td>6 Ave &amp; Broome St</td>\n",
       "      <td>40.724399</td>\n",
       "      <td>-74.004704</td>\n",
       "      <td>505</td>\n",
       "      <td>6 Ave &amp; W 33 St</td>\n",
       "      <td>40.749013</td>\n",
       "      <td>-73.988484</td>\n",
       "      <td>21044</td>\n",
       "      <td>Subscriber</td>\n",
       "      <td>1985.0</td>\n",
       "      <td>2</td>\n",
       "    </tr>\n",
       "    <tr>\n",
       "      <th>4</th>\n",
       "      <td>544</td>\n",
       "      <td>2/1/2015 0:01</td>\n",
       "      <td>2/1/2015 0:10</td>\n",
       "      <td>323</td>\n",
       "      <td>Lawrence St &amp; Willoughby St</td>\n",
       "      <td>40.692362</td>\n",
       "      <td>-73.986317</td>\n",
       "      <td>83</td>\n",
       "      <td>Atlantic Ave &amp; Fort Greene Pl</td>\n",
       "      <td>40.683826</td>\n",
       "      <td>-73.976323</td>\n",
       "      <td>19868</td>\n",
       "      <td>Subscriber</td>\n",
       "      <td>1957.0</td>\n",
       "      <td>1</td>\n",
       "    </tr>\n",
       "  </tbody>\n",
       "</table>\n",
       "</div>"
      ],
      "text/plain": [
       "   tripduration      starttime       stoptime  start station id  \\\n",
       "0           801  2/1/2015 0:00  2/1/2015 0:14               521   \n",
       "1           379  2/1/2015 0:00  2/1/2015 0:07               497   \n",
       "2          2474  2/1/2015 0:01  2/1/2015 0:42               281   \n",
       "3           818  2/1/2015 0:01  2/1/2015 0:15              2004   \n",
       "4           544  2/1/2015 0:01  2/1/2015 0:10               323   \n",
       "\n",
       "                  start station name  start station latitude  \\\n",
       "0                    8 Ave & W 31 St               40.750450   \n",
       "1                 E 17 St & Broadway               40.737050   \n",
       "2  Grand Army Plaza & Central Park S               40.764397   \n",
       "3                  6 Ave & Broome St               40.724399   \n",
       "4        Lawrence St & Willoughby St               40.692362   \n",
       "\n",
       "   start station longitude  end station id               end station name  \\\n",
       "0               -73.994811             423                W 54 St & 9 Ave   \n",
       "1               -73.990093             504                1 Ave & E 15 St   \n",
       "2               -73.973715             127          Barrow St & Hudson St   \n",
       "3               -74.004704             505                6 Ave & W 33 St   \n",
       "4               -73.986317              83  Atlantic Ave & Fort Greene Pl   \n",
       "\n",
       "   end station latitude  end station longitude  bikeid    usertype  \\\n",
       "0             40.765849             -73.986905   17131  Subscriber   \n",
       "1             40.732219             -73.981656   21289  Subscriber   \n",
       "2             40.731724             -74.006744   18903  Subscriber   \n",
       "3             40.749013             -73.988484   21044  Subscriber   \n",
       "4             40.683826             -73.976323   19868  Subscriber   \n",
       "\n",
       "   birth year  gender  \n",
       "0      1978.0       2  \n",
       "1      1993.0       1  \n",
       "2      1969.0       2  \n",
       "3      1985.0       2  \n",
       "4      1957.0       1  "
      ]
     },
     "execution_count": 21,
     "metadata": {},
     "output_type": "execute_result"
    }
   ],
   "source": [
    "#read in data Feburary\n",
    "cb201502 = pd.read_csv(os.getenv(\"PUIDATA\") + \"/\" + datestring02 + '-citibike-tripdata.csv')\n",
    "cb201502.head()"
   ]
  },
  {
   "cell_type": "code",
   "execution_count": 24,
   "metadata": {
    "ExecuteTime": {
     "end_time": "2017-10-16T21:10:12.460833",
     "start_time": "2017-10-16T21:10:11.875318"
    }
   },
   "outputs": [],
   "source": [
    "#subsample data while developing code \n",
    "#THIS IS IMPORTANT! the computing speed when using the full sample is orohibitively slow\n",
    "#for a good workflow it was necessary to develope on a subsample, then run the whole notebook on the full dataset\n",
    "\n",
    "if DEVELOPING:\n",
    "    cb2015 = cb201408[::1000]\n",
    "else:\n",
    "    cb2015 = pd.concat([cb201408, cb201502])"
   ]
  },
  {
   "cell_type": "code",
   "execution_count": 25,
   "metadata": {
    "ExecuteTime": {
     "end_time": "2017-10-16T20:11:14.371359",
     "start_time": "2017-10-16T20:11:14.347393"
    }
   },
   "outputs": [
    {
     "name": "stdout",
     "output_type": "stream",
     "text": [
      "Shape of CB DF\n"
     ]
    },
    {
     "data": {
      "text/plain": [
       "(1160419, 15)"
      ]
     },
     "execution_count": 25,
     "metadata": {},
     "output_type": "execute_result"
    }
   ],
   "source": [
    "print (\"Shape of CB DF\")\n",
    "cb2015.shape"
   ]
  },
  {
   "cell_type": "code",
   "execution_count": 26,
   "metadata": {
    "ExecuteTime": {
     "end_time": "2017-10-16T20:18:17.508711",
     "start_time": "2017-10-16T20:11:14.378186"
    },
    "run_control": {
     "frozen": false,
     "read_only": false
    }
   },
   "outputs": [
    {
     "data": {
      "text/html": [
       "<div>\n",
       "<table border=\"1\" class=\"dataframe\">\n",
       "  <thead>\n",
       "    <tr style=\"text-align: right;\">\n",
       "      <th></th>\n",
       "      <th>tripduration</th>\n",
       "      <th>start station id</th>\n",
       "      <th>start station latitude</th>\n",
       "      <th>start station longitude</th>\n",
       "      <th>end station id</th>\n",
       "      <th>end station latitude</th>\n",
       "      <th>end station longitude</th>\n",
       "      <th>bikeid</th>\n",
       "      <th>gender</th>\n",
       "    </tr>\n",
       "  </thead>\n",
       "  <tbody>\n",
       "    <tr>\n",
       "      <th>count</th>\n",
       "      <td>1.160419e+06</td>\n",
       "      <td>1.160419e+06</td>\n",
       "      <td>1.160419e+06</td>\n",
       "      <td>1.160419e+06</td>\n",
       "      <td>1.160419e+06</td>\n",
       "      <td>1.160419e+06</td>\n",
       "      <td>1.160419e+06</td>\n",
       "      <td>1.160419e+06</td>\n",
       "      <td>1.160419e+06</td>\n",
       "    </tr>\n",
       "    <tr>\n",
       "      <th>mean</th>\n",
       "      <td>8.445177e+02</td>\n",
       "      <td>4.511436e+02</td>\n",
       "      <td>4.073454e+01</td>\n",
       "      <td>-7.399107e+01</td>\n",
       "      <td>4.522944e+02</td>\n",
       "      <td>4.073425e+01</td>\n",
       "      <td>-7.399124e+01</td>\n",
       "      <td>1.812846e+04</td>\n",
       "      <td>1.078735e+00</td>\n",
       "    </tr>\n",
       "    <tr>\n",
       "      <th>std</th>\n",
       "      <td>8.956909e+02</td>\n",
       "      <td>3.710098e+02</td>\n",
       "      <td>1.938657e-02</td>\n",
       "      <td>1.226268e-02</td>\n",
       "      <td>3.748055e+02</td>\n",
       "      <td>1.941668e-02</td>\n",
       "      <td>1.230033e-02</td>\n",
       "      <td>2.083937e+03</td>\n",
       "      <td>5.577636e-01</td>\n",
       "    </tr>\n",
       "    <tr>\n",
       "      <th>min</th>\n",
       "      <td>6.000000e+01</td>\n",
       "      <td>7.200000e+01</td>\n",
       "      <td>4.068034e+01</td>\n",
       "      <td>-7.401713e+01</td>\n",
       "      <td>7.200000e+01</td>\n",
       "      <td>4.068034e+01</td>\n",
       "      <td>-7.401713e+01</td>\n",
       "      <td>1.452900e+04</td>\n",
       "      <td>0.000000e+00</td>\n",
       "    </tr>\n",
       "    <tr>\n",
       "      <th>25%</th>\n",
       "      <td>3.970000e+02</td>\n",
       "      <td>3.050000e+02</td>\n",
       "      <td>4.072110e+01</td>\n",
       "      <td>-7.399998e+01</td>\n",
       "      <td>3.050000e+02</td>\n",
       "      <td>4.072083e+01</td>\n",
       "      <td>-7.400026e+01</td>\n",
       "      <td>1.633600e+04</td>\n",
       "      <td>1.000000e+00</td>\n",
       "    </tr>\n",
       "    <tr>\n",
       "      <th>50%</th>\n",
       "      <td>6.330000e+02</td>\n",
       "      <td>4.040000e+02</td>\n",
       "      <td>4.073625e+01</td>\n",
       "      <td>-7.399076e+01</td>\n",
       "      <td>4.040000e+02</td>\n",
       "      <td>4.073588e+01</td>\n",
       "      <td>-7.399093e+01</td>\n",
       "      <td>1.811000e+04</td>\n",
       "      <td>1.000000e+00</td>\n",
       "    </tr>\n",
       "    <tr>\n",
       "      <th>75%</th>\n",
       "      <td>1.048000e+03</td>\n",
       "      <td>4.890000e+02</td>\n",
       "      <td>4.075007e+01</td>\n",
       "      <td>-7.398195e+01</td>\n",
       "      <td>4.890000e+02</td>\n",
       "      <td>4.074916e+01</td>\n",
       "      <td>-7.398205e+01</td>\n",
       "      <td>1.989800e+04</td>\n",
       "      <td>1.000000e+00</td>\n",
       "    </tr>\n",
       "    <tr>\n",
       "      <th>max</th>\n",
       "      <td>4.301600e+04</td>\n",
       "      <td>3.002000e+03</td>\n",
       "      <td>4.077152e+01</td>\n",
       "      <td>-7.395005e+01</td>\n",
       "      <td>3.002000e+03</td>\n",
       "      <td>4.077152e+01</td>\n",
       "      <td>-7.395005e+01</td>\n",
       "      <td>2.170300e+04</td>\n",
       "      <td>2.000000e+00</td>\n",
       "    </tr>\n",
       "  </tbody>\n",
       "</table>\n",
       "</div>"
      ],
      "text/plain": [
       "       tripduration  start station id  start station latitude  \\\n",
       "count  1.160419e+06      1.160419e+06            1.160419e+06   \n",
       "mean   8.445177e+02      4.511436e+02            4.073454e+01   \n",
       "std    8.956909e+02      3.710098e+02            1.938657e-02   \n",
       "min    6.000000e+01      7.200000e+01            4.068034e+01   \n",
       "25%    3.970000e+02      3.050000e+02            4.072110e+01   \n",
       "50%    6.330000e+02      4.040000e+02            4.073625e+01   \n",
       "75%    1.048000e+03      4.890000e+02            4.075007e+01   \n",
       "max    4.301600e+04      3.002000e+03            4.077152e+01   \n",
       "\n",
       "       start station longitude  end station id  end station latitude  \\\n",
       "count             1.160419e+06    1.160419e+06          1.160419e+06   \n",
       "mean             -7.399107e+01    4.522944e+02          4.073425e+01   \n",
       "std               1.226268e-02    3.748055e+02          1.941668e-02   \n",
       "min              -7.401713e+01    7.200000e+01          4.068034e+01   \n",
       "25%              -7.399998e+01    3.050000e+02          4.072083e+01   \n",
       "50%              -7.399076e+01    4.040000e+02          4.073588e+01   \n",
       "75%              -7.398195e+01    4.890000e+02          4.074916e+01   \n",
       "max              -7.395005e+01    3.002000e+03          4.077152e+01   \n",
       "\n",
       "       end station longitude        bikeid        gender  \n",
       "count           1.160419e+06  1.160419e+06  1.160419e+06  \n",
       "mean           -7.399124e+01  1.812846e+04  1.078735e+00  \n",
       "std             1.230033e-02  2.083937e+03  5.577636e-01  \n",
       "min            -7.401713e+01  1.452900e+04  0.000000e+00  \n",
       "25%            -7.400026e+01  1.633600e+04  1.000000e+00  \n",
       "50%            -7.399093e+01  1.811000e+04  1.000000e+00  \n",
       "75%            -7.398205e+01  1.989800e+04  1.000000e+00  \n",
       "max            -7.395005e+01  2.170300e+04  2.000000e+00  "
      ]
     },
     "execution_count": 26,
     "metadata": {},
     "output_type": "execute_result"
    }
   ],
   "source": [
    "cb2015['date'] = pd.to_datetime(cb2015.starttime)\n",
    "# note that with dataframes I can refer to variables as dictionary keys, \n",
    "# i.e. df['starttime'] or as attributes: df.starttime. \n",
    "cb2015.describe()"
   ]
  },
  {
   "cell_type": "code",
   "execution_count": 27,
   "metadata": {
    "ExecuteTime": {
     "end_time": "2017-10-16T20:18:17.517460",
     "start_time": "2017-10-16T20:18:17.510870"
    },
    "run_control": {
     "frozen": false,
     "read_only": false
    }
   },
   "outputs": [
    {
     "data": {
      "text/plain": [
       "Index(['tripduration', 'starttime', 'stoptime', 'start station id',\n",
       "       'start station name', 'start station latitude',\n",
       "       'start station longitude', 'end station id', 'end station name',\n",
       "       'end station latitude', 'end station longitude', 'bikeid', 'usertype',\n",
       "       'birth year', 'gender', 'date'],\n",
       "      dtype='object')"
      ]
     },
     "execution_count": 27,
     "metadata": {},
     "output_type": "execute_result"
    }
   ],
   "source": [
    "cb2015.columns"
   ]
  },
  {
   "cell_type": "markdown",
   "metadata": {
    "run_control": {
     "frozen": false,
     "read_only": false
    }
   },
   "source": [
    "## SPLIT BY CATEGORY\n",
    "\n",
    "splitting data by day vs night and looking at trip duration:\n",
    "\n",
    "**H0: there is no statistical difference in the trip duration distribution during the day and the night**\n",
    "$$ \\alpha = 0.05 $$\n",
    "\n",
    "extracting the age happens in the cell below"
   ]
  },
  {
   "cell_type": "code",
   "execution_count": 28,
   "metadata": {
    "ExecuteTime": {
     "end_time": "2017-10-16T20:18:19.715100",
     "start_time": "2017-10-16T20:18:17.520135"
    }
   },
   "outputs": [],
   "source": [
    "#extract hour when trip started\n",
    "cb2015['starthour'] = pd.to_numeric(cb2015.starttime.apply(lambda x: \n",
    "                                                           x.split()[1].split(':')[0]))"
   ]
  },
  {
   "cell_type": "code",
   "execution_count": 29,
   "metadata": {
    "ExecuteTime": {
     "end_time": "2017-10-16T20:18:19.726708",
     "start_time": "2017-10-16T20:18:19.717668"
    }
   },
   "outputs": [
    {
     "data": {
      "text/plain": [
       "0"
      ]
     },
     "execution_count": 29,
     "metadata": {},
     "output_type": "execute_result"
    }
   ],
   "source": [
    "#check start hour\n",
    "cb2015.starthour.values[0]"
   ]
  },
  {
   "cell_type": "code",
   "execution_count": 30,
   "metadata": {
    "ExecuteTime": {
     "end_time": "2017-10-16T20:18:19.744858",
     "start_time": "2017-10-16T20:18:19.729930"
    }
   },
   "outputs": [],
   "source": [
    "# split day and night smaples\n",
    "# chose trip starting between 6 and 18 as day trips\n",
    "cb2015['dayride'] = (cb2015.starthour.values > DAYTIME[0]) & (cb2015.starthour.values < DAYTIME[1])"
   ]
  },
  {
   "cell_type": "code",
   "execution_count": 31,
   "metadata": {
    "ExecuteTime": {
     "end_time": "2017-10-16T20:18:20.041015",
     "start_time": "2017-10-16T20:18:19.747974"
    },
    "run_control": {
     "frozen": false,
     "read_only": false
    }
   },
   "outputs": [
    {
     "name": "stdout",
     "output_type": "stream",
     "text": [
      "The number of rows in the 2015 citibike dataset is 1160419\n"
     ]
    },
    {
     "data": {
      "text/html": [
       "<div>\n",
       "<table border=\"1\" class=\"dataframe\">\n",
       "  <thead>\n",
       "    <tr style=\"text-align: right;\">\n",
       "      <th></th>\n",
       "      <th>tripduration</th>\n",
       "      <th>start station id</th>\n",
       "      <th>start station name</th>\n",
       "      <th>dayride</th>\n",
       "    </tr>\n",
       "  </thead>\n",
       "  <tbody>\n",
       "    <tr>\n",
       "      <th>0</th>\n",
       "      <td>1142</td>\n",
       "      <td>470</td>\n",
       "      <td>W 20 St &amp; 8 Ave</td>\n",
       "      <td>False</td>\n",
       "    </tr>\n",
       "    <tr>\n",
       "      <th>1</th>\n",
       "      <td>117</td>\n",
       "      <td>236</td>\n",
       "      <td>St Marks Pl &amp; 2 Ave</td>\n",
       "      <td>False</td>\n",
       "    </tr>\n",
       "    <tr>\n",
       "      <th>2</th>\n",
       "      <td>546</td>\n",
       "      <td>224</td>\n",
       "      <td>Spruce St &amp; Nassau St</td>\n",
       "      <td>False</td>\n",
       "    </tr>\n",
       "    <tr>\n",
       "      <th>3</th>\n",
       "      <td>2126</td>\n",
       "      <td>150</td>\n",
       "      <td>E 2 St &amp; Avenue C</td>\n",
       "      <td>False</td>\n",
       "    </tr>\n",
       "    <tr>\n",
       "      <th>4</th>\n",
       "      <td>329</td>\n",
       "      <td>519</td>\n",
       "      <td>E 42 St &amp; Vanderbilt Ave</td>\n",
       "      <td>False</td>\n",
       "    </tr>\n",
       "  </tbody>\n",
       "</table>\n",
       "</div>"
      ],
      "text/plain": [
       "   tripduration  start station id        start station name dayride\n",
       "0          1142               470           W 20 St & 8 Ave   False\n",
       "1           117               236       St Marks Pl & 2 Ave   False\n",
       "2           546               224     Spruce St & Nassau St   False\n",
       "3          2126               150         E 2 St & Avenue C   False\n",
       "4           329               519  E 42 St & Vanderbilt Ave   False"
      ]
     },
     "execution_count": 31,
     "metadata": {},
     "output_type": "execute_result"
    }
   ],
   "source": [
    "#collecting latitude and longitude for later splitting borroughs\n",
    "latlon = (cb2015[['start station latitude', \n",
    "                'start station longitude']].values.astype(float))\n",
    "print(\"The number of rows in the 2015 citibike dataset is\", len(latlon))\n",
    "#dropping not needed columns to lighten memory load\n",
    "cb2015 = cb2015.drop(cb2015.columns[5:-1], axis=1).drop(cb2015.columns[1:3], axis=1)\n",
    "cb2015.head()"
   ]
  },
  {
   "cell_type": "code",
   "execution_count": 32,
   "metadata": {
    "ExecuteTime": {
     "end_time": "2017-10-16T20:18:20.240824",
     "start_time": "2017-10-16T20:18:20.044299"
    },
    "run_control": {
     "frozen": false,
     "read_only": false
    }
   },
   "outputs": [
    {
     "data": {
      "text/html": [
       "<div>\n",
       "<table border=\"1\" class=\"dataframe\">\n",
       "  <thead>\n",
       "    <tr style=\"text-align: right;\">\n",
       "      <th></th>\n",
       "      <th>tripduration</th>\n",
       "      <th>start station id</th>\n",
       "    </tr>\n",
       "  </thead>\n",
       "  <tbody>\n",
       "    <tr>\n",
       "      <th>count</th>\n",
       "      <td>1.160419e+06</td>\n",
       "      <td>1.160419e+06</td>\n",
       "    </tr>\n",
       "    <tr>\n",
       "      <th>mean</th>\n",
       "      <td>8.445177e+02</td>\n",
       "      <td>4.511436e+02</td>\n",
       "    </tr>\n",
       "    <tr>\n",
       "      <th>std</th>\n",
       "      <td>8.956909e+02</td>\n",
       "      <td>3.710098e+02</td>\n",
       "    </tr>\n",
       "    <tr>\n",
       "      <th>min</th>\n",
       "      <td>6.000000e+01</td>\n",
       "      <td>7.200000e+01</td>\n",
       "    </tr>\n",
       "    <tr>\n",
       "      <th>25%</th>\n",
       "      <td>3.970000e+02</td>\n",
       "      <td>3.050000e+02</td>\n",
       "    </tr>\n",
       "    <tr>\n",
       "      <th>50%</th>\n",
       "      <td>6.330000e+02</td>\n",
       "      <td>4.040000e+02</td>\n",
       "    </tr>\n",
       "    <tr>\n",
       "      <th>75%</th>\n",
       "      <td>1.048000e+03</td>\n",
       "      <td>4.890000e+02</td>\n",
       "    </tr>\n",
       "    <tr>\n",
       "      <th>max</th>\n",
       "      <td>4.301600e+04</td>\n",
       "      <td>3.002000e+03</td>\n",
       "    </tr>\n",
       "  </tbody>\n",
       "</table>\n",
       "</div>"
      ],
      "text/plain": [
       "       tripduration  start station id\n",
       "count  1.160419e+06      1.160419e+06\n",
       "mean   8.445177e+02      4.511436e+02\n",
       "std    8.956909e+02      3.710098e+02\n",
       "min    6.000000e+01      7.200000e+01\n",
       "25%    3.970000e+02      3.050000e+02\n",
       "50%    6.330000e+02      4.040000e+02\n",
       "75%    1.048000e+03      4.890000e+02\n",
       "max    4.301600e+04      3.002000e+03"
      ]
     },
     "execution_count": 32,
     "metadata": {},
     "output_type": "execute_result"
    }
   ],
   "source": [
    "#your df should look something like this\n",
    "# look at these data carefully... you may see someinteresting values!\n",
    "cb2015.describe()"
   ]
  },
  {
   "cell_type": "markdown",
   "metadata": {},
   "source": [
    "# exploratory analysis"
   ]
  },
  {
   "cell_type": "code",
   "execution_count": 33,
   "metadata": {
    "ExecuteTime": {
     "end_time": "2017-10-16T20:28:02.412991",
     "start_time": "2017-10-16T20:28:02.368275"
    }
   },
   "outputs": [
    {
     "name": "stdout",
     "output_type": "stream",
     "text": [
      "Number of daytime rides 770185\n",
      "Number of nighttime rides 390234\n"
     ]
    }
   ],
   "source": [
    "print (\"Number of daytime rides\", cb2015.dayride.sum())\n",
    "print (\"Number of nighttime rides\", (~cb2015.dayride).sum())"
   ]
  },
  {
   "cell_type": "code",
   "execution_count": 35,
   "metadata": {
    "ExecuteTime": {
     "end_time": "2017-10-16T20:59:21.775880",
     "start_time": "2017-10-16T20:59:19.804721"
    }
   },
   "outputs": [
    {
     "ename": "NameError",
     "evalue": "name 'count_nonzero' is not defined",
     "output_type": "error",
     "traceback": [
      "\u001b[0;31m---------------------------------------------------------------------------\u001b[0m",
      "\u001b[0;31mNameError\u001b[0m                                 Traceback (most recent call last)",
      "\u001b[0;32m<ipython-input-35-290bb39f2133>\u001b[0m in \u001b[0;36m<module>\u001b[0;34m()\u001b[0m\n\u001b[1;32m      5\u001b[0m dayax = cb2015[cb2015.dayride].tripduration.groupby(\n\u001b[1;32m      6\u001b[0m     pd.cut(cb2015[cb2015.dayride].tripduration, bins)).\\\n\u001b[0;32m----> 7\u001b[0;31m                     \u001b[0magg\u001b[0m\u001b[0;34m(\u001b[0m\u001b[0;34m[\u001b[0m\u001b[0mcount_nonzero\u001b[0m\u001b[0;34m]\u001b[0m\u001b[0;34m)\u001b[0m\u001b[0;34m.\u001b[0m\u001b[0mplot\u001b[0m\u001b[0;34m(\u001b[0m\u001b[0mkind\u001b[0m\u001b[0;34m=\u001b[0m\u001b[0;34m'bar'\u001b[0m\u001b[0;34m,\u001b[0m \u001b[0mlegend\u001b[0m\u001b[0;34m=\u001b[0m\u001b[0;32mFalse\u001b[0m\u001b[0;34m)\u001b[0m\u001b[0;34m\u001b[0m\u001b[0m\n\u001b[0m\u001b[1;32m      8\u001b[0m \u001b[0mdayax\u001b[0m\u001b[0;34m.\u001b[0m\u001b[0mset_title\u001b[0m\u001b[0;34m(\u001b[0m\u001b[0;34m\"August 2014 and Feburary 2015 rides\"\u001b[0m\u001b[0;34m)\u001b[0m\u001b[0;34m\u001b[0m\u001b[0m\n\u001b[1;32m      9\u001b[0m \u001b[0;31m# plot nighttime trip duration histogram\u001b[0m\u001b[0;34m\u001b[0m\u001b[0;34m\u001b[0m\u001b[0m\n",
      "\u001b[0;31mNameError\u001b[0m: name 'count_nonzero' is not defined"
     ]
    }
   ],
   "source": [
    "# plot daytime trip duration histogram in 100 bins\n",
    "# plot 0% to 95% percentile because I expect these distribution to be long tailed and I see 43,000 hour trips above\n",
    "pc = np.percentile(cb2015.tripduration, [0, 99])\n",
    "bins = np.linspace(int(pc[0]), int(pc[1] / 100) * 100, 100)\n",
    "dayax = cb2015[cb2015.dayride].tripduration.groupby(\n",
    "    pd.cut(cb2015[cb2015.dayride].tripduration, bins)).\\\n",
    "                    agg([count_nonzero]).plot(kind='bar', legend=False)\n",
    "dayax.set_title(\"August 2014 and Feburary 2015 rides\")\n",
    "# plot nighttime trip duration histogram\n",
    "cb2015[~cb2015.dayride].tripduration.groupby(\n",
    "    pd.cut(cb2015[~cb2015.dayride].tripduration, bins)).\\\n",
    "                    agg([count_nonzero]).plot(kind='bar', legend=False, ax=dayax, \n",
    "                                             color='IndianRed')\n",
    "xlab = dayax.get_xticklabels()\n",
    "dayax.set_xticklabels(['' if float(i)%10 > 0 else xlab[i] for i in range(len(xlab))]);\n",
    "dayax.set_xlabel(\" trip duration (minutes)\");\n",
    "\n"
   ]
  },
  {
   "cell_type": "code",
   "execution_count": 36,
   "metadata": {
    "ExecuteTime": {
     "end_time": "2017-10-16T20:51:36.389519",
     "start_time": "2017-10-16T20:51:36.383967"
    },
    "run_control": {
     "frozen": false,
     "read_only": false
    }
   },
   "outputs": [
    {
     "name": "stdout",
     "output_type": "stream",
     "text": [
      "Figure 1: histogrammed distribution of ride duration by day (blue) and night (red).\n",
      "The distributions are plotted up to the 95th percentile (removing outliers in the tail).\n",
      "The distributions look similar, such that visual inspection is not sufficient to determine if there is a difference.The number of rides is obviously higher during day hours.\n",
      "Note, that our definition of day includes 12 hours between hour 6 and 18\n"
     ]
    }
   ],
   "source": [
    "print (\"Figure 1: histogrammed distribution of ride duration by day (blue) and night (red).\\n\" +\n",
    "       \"The distributions are plotted up to the 95th percentile (removing outliers in the tail).\\n\" +\n",
    "       \"The distributions look similar, such that visual inspection is not sufficient \" +\n",
    "       \"to determine if there is a difference.\" + \n",
    "       \"The number of rides is obviously higher during day hours.\\n\" +\n",
    "       \"Note, that our definition of day includes %d hours between hour %d and %d\"%(DAYTIME[1] - DAYTIME[0],\n",
    "                                                                                    DAYTIME[0], DAYTIME[1]))"
   ]
  },
  {
   "cell_type": "code",
   "execution_count": 37,
   "metadata": {
    "ExecuteTime": {
     "end_time": "2017-10-16T21:05:42.382540",
     "start_time": "2017-10-16T21:05:41.678436"
    },
    "run_control": {
     "frozen": false,
     "read_only": false
    },
    "scrolled": false
   },
   "outputs": [
    {
     "ename": "NameError",
     "evalue": "name 'count_nonzero' is not defined",
     "output_type": "error",
     "traceback": [
      "\u001b[0;31m---------------------------------------------------------------------------\u001b[0m",
      "\u001b[0;31mNameError\u001b[0m                                 Traceback (most recent call last)",
      "\u001b[0;32m<ipython-input-37-e29a019dc1f6>\u001b[0m in \u001b[0;36m<module>\u001b[0;34m()\u001b[0m\n\u001b[1;32m      2\u001b[0m \u001b[0;34m\u001b[0m\u001b[0m\n\u001b[1;32m      3\u001b[0m csD = cb2015[cb2015.dayride].tripduration.groupby(pd.cut(cb2015[cb2015.dayride].tripduration, \n\u001b[0;32m----> 4\u001b[0;31m                                                  bins)).agg([count_nonzero]).cumsum()\n\u001b[0m\u001b[1;32m      5\u001b[0m \u001b[0;34m\u001b[0m\u001b[0m\n\u001b[1;32m      6\u001b[0m csN = cb2015[~cb2015.dayride].tripduration.groupby(pd.cut(cb2015[~cb2015.dayride].tripduration, \n",
      "\u001b[0;31mNameError\u001b[0m: name 'count_nonzero' is not defined"
     ]
    }
   ],
   "source": [
    "#print df.ageS, df.ageS.cumsum()\n",
    "\n",
    "csD = cb2015[cb2015.dayride].tripduration.groupby(pd.cut(cb2015[cb2015.dayride].tripduration, \n",
    "                                                 bins)).agg([count_nonzero]).cumsum()\n",
    "\n",
    "csN = cb2015[~cb2015.dayride].tripduration.groupby(pd.cut(cb2015[~cb2015.dayride].tripduration, \n",
    "                                                  bins)).agg([count_nonzero]).cumsum()\n",
    "\n",
    "#print (np.abs(csD / csD.max()-csN / csN.max()))\n",
    "\n",
    "pl.plot(bins[:-1] + 5, csD / csD.max(), label = \"day\")\n",
    "pl.plot(bins[:-1] + 5, csN / csN.max(), label = \"night\")\n",
    "pl.plot(bins[:-1] + 5, np.abs(csN / csN.max() - csD / csD.max()), 'k-',\n",
    "        label = \"difference\")\n",
    "pl.xlabel(\"trip duration (minutes)\")\n",
    "pl.ylabel(\"Normalized Cumulative Number\")\n",
    "pl.legend();"
   ]
  },
  {
   "cell_type": "markdown",
   "metadata": {
    "run_control": {
     "frozen": false,
     "read_only": false
    }
   },
   "source": [
    "** Figure 2: the cumulative distribution of CitiBike riders' ages by day vs night trips.** \n",
    "\n",
    "The cumulative distribution is, by eye, practically identical with the maximum difference in heights between the cumulative distributions reached near 100 minutes of travel time. The difference is much less than 10%."
   ]
  },
  {
   "cell_type": "markdown",
   "metadata": {
    "collapsed": true,
    "run_control": {
     "frozen": false,
     "read_only": false
    }
   },
   "source": [
    "# KS tests to compare 2 samples\n",
    "\n",
    "http://docs.scipy.org/doc/scipy-0.15.1/reference/generated/scipy.stats.ks_2samp.html\n",
    "\n",
    "Null: the two distribution come from the same parent distribution"
   ]
  },
  {
   "cell_type": "code",
   "execution_count": 38,
   "metadata": {
    "ExecuteTime": {
     "end_time": "2017-10-16T20:28:16.494458",
     "start_time": "2017-10-16T20:28:16.223754"
    },
    "run_control": {
     "frozen": false,
     "read_only": false
    }
   },
   "outputs": [
    {
     "name": "stdout",
     "output_type": "stream",
     "text": [
      "Ks_2sampResult(statistic=0.012943463085704487, pvalue=3.9237493155841106e-38)\n"
     ]
    },
    {
     "ename": "NameError",
     "evalue": "name 'alpha' is not defined",
     "output_type": "error",
     "traceback": [
      "\u001b[0;31m---------------------------------------------------------------------------\u001b[0m",
      "\u001b[0;31mNameError\u001b[0m                                 Traceback (most recent call last)",
      "\u001b[0;32m<ipython-input-38-c8d211056881>\u001b[0m in \u001b[0;36m<module>\u001b[0;34m()\u001b[0m\n\u001b[1;32m      1\u001b[0m \u001b[0mks\u001b[0m \u001b[0;34m=\u001b[0m \u001b[0mscipy\u001b[0m\u001b[0;34m.\u001b[0m\u001b[0mstats\u001b[0m\u001b[0;34m.\u001b[0m\u001b[0mks_2samp\u001b[0m\u001b[0;34m(\u001b[0m\u001b[0mcb2015\u001b[0m\u001b[0;34m[\u001b[0m\u001b[0mcb2015\u001b[0m\u001b[0;34m.\u001b[0m\u001b[0mdayride\u001b[0m\u001b[0;34m]\u001b[0m\u001b[0;34m.\u001b[0m\u001b[0mtripduration\u001b[0m\u001b[0;34m,\u001b[0m \u001b[0mcb2015\u001b[0m\u001b[0;34m[\u001b[0m\u001b[0;34m~\u001b[0m\u001b[0mcb2015\u001b[0m\u001b[0;34m.\u001b[0m\u001b[0mdayride\u001b[0m\u001b[0;34m]\u001b[0m\u001b[0;34m.\u001b[0m\u001b[0mtripduration\u001b[0m\u001b[0;34m)\u001b[0m\u001b[0;34m\u001b[0m\u001b[0m\n\u001b[1;32m      2\u001b[0m \u001b[0mprint\u001b[0m \u001b[0;34m(\u001b[0m\u001b[0mks\u001b[0m\u001b[0;34m)\u001b[0m\u001b[0;34m\u001b[0m\u001b[0m\n\u001b[0;32m----> 3\u001b[0;31m \u001b[0;32mif\u001b[0m \u001b[0mks\u001b[0m\u001b[0;34m[\u001b[0m\u001b[0;36m1\u001b[0m\u001b[0;34m]\u001b[0m \u001b[0;34m>=\u001b[0m \u001b[0malpha\u001b[0m\u001b[0;34m:\u001b[0m\u001b[0;34m\u001b[0m\u001b[0m\n\u001b[0m\u001b[1;32m      4\u001b[0m     print (\"The Null hypothesis that the two samples are generated \" + \n\u001b[1;32m      5\u001b[0m             \"by the same parent distribution cannot be rejected (p>=0.05)\")\n",
      "\u001b[0;31mNameError\u001b[0m: name 'alpha' is not defined"
     ]
    }
   ],
   "source": [
    "ks = scipy.stats.ks_2samp(cb2015[cb2015.dayride].tripduration, cb2015[~cb2015.dayride].tripduration)\n",
    "print (ks)\n",
    "if ks[1] >= alpha: \n",
    "    print (\"The Null hypothesis that the two samples are generated \" + \n",
    "            \"by the same parent distribution cannot be rejected (p>=0.05)\")\n",
    "else: \n",
    "    print (\"The Null hypothesis that the two samples are generated \" + \n",
    "            \"by the same parent distribution is rejected (p<0.05)\")\n",
    "    "
   ]
  },
  {
   "cell_type": "markdown",
   "metadata": {},
   "source": [
    "** Note on the KS test: the KS test, and generally any test of Null Hypothesis Statistical Testing, has higher power for larger samples. With a million observations, 100s of thousands in each sample tiny differences tend to become statistically significant. ** (The distribution looked different by eye in a cumulative plot in the testig phase, with 1000 fewer samples but the p-value was less significant)"
   ]
  },
  {
   "cell_type": "markdown",
   "metadata": {
    "run_control": {
     "frozen": false,
     "read_only": false
    }
   },
   "source": [
    "** Now retest using a test for correlation. **\n",
    "\n",
    "The null hypothesis is that the two samples are generated from the same distribution. \n",
    "\n",
    "The alternative hypothesis is that the two samples are generated by unrelated distributions.\n",
    "\n",
    "Note that this is not a rigorous test, unlike the KS test, and according to scipy.stats.pearsonr _\"The p-values are not entirely reliable but are probably reasonable for datasets larger than 500 or so.\"_\n"
   ]
  },
  {
   "cell_type": "code",
   "execution_count": 39,
   "metadata": {
    "ExecuteTime": {
     "end_time": "2017-10-16T20:25:07.077103",
     "start_time": "2017-10-16T20:25:06.648556"
    },
    "run_control": {
     "frozen": false,
     "read_only": false
    }
   },
   "outputs": [],
   "source": [
    "#more rides during the day than during the night: subsample day rides\n",
    "dfday = cb2015[cb2015.dayride].iloc[np.random.choice(range(len(cb2015[cb2015.dayride])), (~cb2015.dayride).sum(), \n",
    "                                      replace=False)]"
   ]
  },
  {
   "cell_type": "code",
   "execution_count": 40,
   "metadata": {
    "ExecuteTime": {
     "end_time": "2017-10-16T20:28:20.638578",
     "start_time": "2017-10-16T20:28:20.533327"
    },
    "run_control": {
     "frozen": false,
     "read_only": false
    }
   },
   "outputs": [
    {
     "name": "stdout",
     "output_type": "stream",
     "text": [
      "Parson's test result (0.97355013945918534, 0.0)\n"
     ]
    },
    {
     "ename": "NameError",
     "evalue": "name 'alpha' is not defined",
     "output_type": "error",
     "traceback": [
      "\u001b[0;31m---------------------------------------------------------------------------\u001b[0m",
      "\u001b[0;31mNameError\u001b[0m                                 Traceback (most recent call last)",
      "\u001b[0;32m<ipython-input-40-b78def45b540>\u001b[0m in \u001b[0;36m<module>\u001b[0;34m()\u001b[0m\n\u001b[1;32m      1\u001b[0m \u001b[0mparsons\u001b[0m \u001b[0;34m=\u001b[0m \u001b[0mscipy\u001b[0m\u001b[0;34m.\u001b[0m\u001b[0mstats\u001b[0m\u001b[0;34m.\u001b[0m\u001b[0mpearsonr\u001b[0m\u001b[0;34m(\u001b[0m\u001b[0mnp\u001b[0m\u001b[0;34m.\u001b[0m\u001b[0msort\u001b[0m\u001b[0;34m(\u001b[0m\u001b[0mdfday\u001b[0m\u001b[0;34m.\u001b[0m\u001b[0mtripduration\u001b[0m\u001b[0;34m)\u001b[0m\u001b[0;34m,\u001b[0m \u001b[0mnp\u001b[0m\u001b[0;34m.\u001b[0m\u001b[0msort\u001b[0m\u001b[0;34m(\u001b[0m\u001b[0mcb2015\u001b[0m\u001b[0;34m[\u001b[0m\u001b[0;34m~\u001b[0m\u001b[0mcb2015\u001b[0m\u001b[0;34m.\u001b[0m\u001b[0mdayride\u001b[0m\u001b[0;34m]\u001b[0m\u001b[0;34m.\u001b[0m\u001b[0mtripduration\u001b[0m\u001b[0;34m)\u001b[0m\u001b[0;34m)\u001b[0m\u001b[0;34m\u001b[0m\u001b[0m\n\u001b[1;32m      2\u001b[0m \u001b[0mprint\u001b[0m \u001b[0;34m(\u001b[0m\u001b[0;34m\"Parson's test result\"\u001b[0m\u001b[0;34m,\u001b[0m \u001b[0mparsons\u001b[0m\u001b[0;34m)\u001b[0m\u001b[0;34m\u001b[0m\u001b[0m\n\u001b[0;32m----> 3\u001b[0;31m \u001b[0;32mif\u001b[0m \u001b[0mparsons\u001b[0m\u001b[0;34m[\u001b[0m\u001b[0;36m1\u001b[0m\u001b[0;34m]\u001b[0m \u001b[0;34m>=\u001b[0m \u001b[0malpha\u001b[0m\u001b[0;34m:\u001b[0m\u001b[0;34m\u001b[0m\u001b[0m\n\u001b[0m\u001b[1;32m      4\u001b[0m     print (r\"The Null hypothesis that the two samples are generated from uncorrelated distributions. \" + \n\u001b[1;32m      5\u001b[0m            \"cannot be rejected (p>=0.05)\")\n",
      "\u001b[0;31mNameError\u001b[0m: name 'alpha' is not defined"
     ]
    }
   ],
   "source": [
    "parsons = scipy.stats.pearsonr(np.sort(dfday.tripduration), np.sort(cb2015[~cb2015.dayride].tripduration))\n",
    "print (\"Parson's test result\", parsons)\n",
    "if parsons[1] >= alpha: \n",
    "    print (r\"The Null hypothesis that the two samples are generated from uncorrelated distributions. \" + \n",
    "           \"cannot be rejected (p>=0.05)\")\n",
    "else: \n",
    "    print (\"The Null hypothesis that the two samples are generated from uncorrelated distributions. \" + \n",
    "           \"is rejected (p = %.3f<0.05)\"%parsons[1])\n",
    " "
   ]
  },
  {
   "cell_type": "markdown",
   "metadata": {
    "run_control": {
     "frozen": false,
     "read_only": false
    }
   },
   "source": [
    "# Spearman's  test for correlation\n",
    "\n",
    "http://docs.scipy.org/doc/scipy/reference/generated/scipy.stats.spearmanr.html#scipy.stats.spearmanr"
   ]
  },
  {
   "cell_type": "code",
   "execution_count": 41,
   "metadata": {
    "ExecuteTime": {
     "end_time": "2017-10-16T20:28:25.257413",
     "start_time": "2017-10-16T20:28:25.085845"
    },
    "run_control": {
     "frozen": false,
     "read_only": false
    }
   },
   "outputs": [
    {
     "name": "stdout",
     "output_type": "stream",
     "text": [
      "Spearman's r test result SpearmanrResult(correlation=0.99999931635544259, pvalue=0.0)\n"
     ]
    },
    {
     "ename": "NameError",
     "evalue": "name 'alpha' is not defined",
     "output_type": "error",
     "traceback": [
      "\u001b[0;31m---------------------------------------------------------------------------\u001b[0m",
      "\u001b[0;31mNameError\u001b[0m                                 Traceback (most recent call last)",
      "\u001b[0;32m<ipython-input-41-af4ee66740d4>\u001b[0m in \u001b[0;36m<module>\u001b[0;34m()\u001b[0m\n\u001b[1;32m      1\u001b[0m \u001b[0mspearmanr\u001b[0m \u001b[0;34m=\u001b[0m \u001b[0mscipy\u001b[0m\u001b[0;34m.\u001b[0m\u001b[0mstats\u001b[0m\u001b[0;34m.\u001b[0m\u001b[0mspearmanr\u001b[0m\u001b[0;34m(\u001b[0m\u001b[0mnp\u001b[0m\u001b[0;34m.\u001b[0m\u001b[0msort\u001b[0m\u001b[0;34m(\u001b[0m\u001b[0mdfday\u001b[0m\u001b[0;34m.\u001b[0m\u001b[0mtripduration\u001b[0m\u001b[0;34m)\u001b[0m\u001b[0;34m,\u001b[0m \u001b[0mnp\u001b[0m\u001b[0;34m.\u001b[0m\u001b[0msort\u001b[0m\u001b[0;34m(\u001b[0m\u001b[0mcb2015\u001b[0m\u001b[0;34m[\u001b[0m\u001b[0;34m~\u001b[0m\u001b[0mcb2015\u001b[0m\u001b[0;34m.\u001b[0m\u001b[0mdayride\u001b[0m\u001b[0;34m]\u001b[0m\u001b[0;34m.\u001b[0m\u001b[0mtripduration\u001b[0m\u001b[0;34m)\u001b[0m\u001b[0;34m)\u001b[0m\u001b[0;34m\u001b[0m\u001b[0m\n\u001b[1;32m      2\u001b[0m \u001b[0mprint\u001b[0m \u001b[0;34m(\u001b[0m\u001b[0;34m\"Spearman's r test result\"\u001b[0m\u001b[0;34m,\u001b[0m \u001b[0mspearmanr\u001b[0m\u001b[0;34m)\u001b[0m\u001b[0;34m\u001b[0m\u001b[0m\n\u001b[0;32m----> 3\u001b[0;31m \u001b[0;32mif\u001b[0m \u001b[0mspearmanr\u001b[0m\u001b[0;34m[\u001b[0m\u001b[0;36m1\u001b[0m\u001b[0;34m]\u001b[0m \u001b[0;34m>=\u001b[0m \u001b[0malpha\u001b[0m\u001b[0;34m:\u001b[0m\u001b[0;34m\u001b[0m\u001b[0m\n\u001b[0m\u001b[1;32m      4\u001b[0m     print (\"The Null hypothesis that the two samples are generated from uncorrelated distributions. \" + \n\u001b[1;32m      5\u001b[0m            \"cannot be rejected (p>=0.05)\")\n",
      "\u001b[0;31mNameError\u001b[0m: name 'alpha' is not defined"
     ]
    }
   ],
   "source": [
    "spearmanr = scipy.stats.spearmanr(np.sort(dfday.tripduration), np.sort(cb2015[~cb2015.dayride].tripduration))\n",
    "print (\"Spearman's r test result\", spearmanr)\n",
    "if spearmanr[1] >= alpha: \n",
    "    print (\"The Null hypothesis that the two samples are generated from uncorrelated distributions. \" + \n",
    "           \"cannot be rejected (p>=0.05)\")\n",
    "else: \n",
    "    print (\"The Null hypothesis that the two samples are generated from uncorrelated distributions. \" + \n",
    "           \"is rejected (p = %.3f<0.05)\"%spearmanr[1])\n",
    " "
   ]
  },
  {
   "cell_type": "markdown",
   "metadata": {
    "run_control": {
     "frozen": false,
     "read_only": false
    }
   },
   "source": [
    "** This test is often used to assess if sample are generated by the same distribution but in fact it tests if the samples are generated by _correlated_ distributions. As a test to assess independence it is not powerful, as even a small amount of correlation would raise the p-value**"
   ]
  }
 ],
 "metadata": {
  "anaconda-cloud": {},
  "kernelspec": {
   "display_name": "PUI2016_Python3",
   "language": "python",
   "name": "pui2016_python3"
  },
  "language_info": {
   "codemirror_mode": {
    "name": "ipython",
    "version": 3
   },
   "file_extension": ".py",
   "mimetype": "text/x-python",
   "name": "python",
   "nbconvert_exporter": "python",
   "pygments_lexer": "ipython3",
   "version": "3.5.4"
  },
  "latex_envs": {
   "LaTeX_envs_menu_present": true,
   "bibliofile": "biblio.bib",
   "cite_by": "apalike",
   "current_citInitial": 1,
   "eqLabelWithNumbers": true,
   "eqNumInitial": 1,
   "hotkeys": {
    "equation": "Ctrl-E",
    "itemize": "Ctrl-I"
   },
   "labels_anchors": false,
   "latex_user_defs": false,
   "report_style_numbering": false,
   "user_envs_cfg": false
  },
  "toc": {
   "colors": {
    "hover_highlight": "#DAA520",
    "running_highlight": "#FF0000",
    "selected_highlight": "#FFD700"
   },
   "moveMenuLeft": true,
   "nav_menu": {
    "height": "135px",
    "width": "251px"
   },
   "navigate_menu": true,
   "number_sections": true,
   "sideBar": true,
   "threshold": 4,
   "toc_cell": false,
   "toc_section_display": "block",
   "toc_window_display": false
  }
 },
 "nbformat": 4,
 "nbformat_minor": 1
}
